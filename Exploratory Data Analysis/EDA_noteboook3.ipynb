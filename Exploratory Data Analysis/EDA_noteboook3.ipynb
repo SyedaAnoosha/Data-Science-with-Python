{
 "cells": [
  {
   "cell_type": "markdown",
   "metadata": {},
   "source": [
    "# EDA Notebook 3"
   ]
  },
  {
   "cell_type": "markdown",
   "metadata": {},
   "source": [
    "## Import libraries"
   ]
  },
  {
   "cell_type": "code",
   "execution_count": 29,
   "metadata": {},
   "outputs": [],
   "source": [
    "import pandas as pd\n",
    "import matplotlib.pyplot as plt\n",
    "import seaborn as sns\n",
    "import numpy as np"
   ]
  },
  {
   "cell_type": "markdown",
   "metadata": {},
   "source": [
    "## Import Dataset"
   ]
  },
  {
   "cell_type": "code",
   "execution_count": 30,
   "metadata": {},
   "outputs": [
    {
     "data": {
      "text/html": [
       "<div>\n",
       "<style scoped>\n",
       "    .dataframe tbody tr th:only-of-type {\n",
       "        vertical-align: middle;\n",
       "    }\n",
       "\n",
       "    .dataframe tbody tr th {\n",
       "        vertical-align: top;\n",
       "    }\n",
       "\n",
       "    .dataframe thead th {\n",
       "        text-align: right;\n",
       "    }\n",
       "</style>\n",
       "<table border=\"1\" class=\"dataframe\">\n",
       "  <thead>\n",
       "    <tr style=\"text-align: right;\">\n",
       "      <th></th>\n",
       "      <th>divorce_date</th>\n",
       "      <th>dob_man</th>\n",
       "      <th>education_man</th>\n",
       "      <th>income_man</th>\n",
       "      <th>dob_woman</th>\n",
       "      <th>education_woman</th>\n",
       "      <th>income_woman</th>\n",
       "      <th>marriage_date</th>\n",
       "      <th>marriage_duration</th>\n",
       "      <th>num_kids</th>\n",
       "    </tr>\n",
       "  </thead>\n",
       "  <tbody>\n",
       "    <tr>\n",
       "      <th>0</th>\n",
       "      <td>2006-09-06</td>\n",
       "      <td>1975-12-18</td>\n",
       "      <td>Secondary</td>\n",
       "      <td>2000.0</td>\n",
       "      <td>1983-08-01</td>\n",
       "      <td>Secondary</td>\n",
       "      <td>1800.0</td>\n",
       "      <td>2000-06-26</td>\n",
       "      <td>5.0</td>\n",
       "      <td>1.0</td>\n",
       "    </tr>\n",
       "    <tr>\n",
       "      <th>1</th>\n",
       "      <td>2008-01-02</td>\n",
       "      <td>1976-11-17</td>\n",
       "      <td>Professional</td>\n",
       "      <td>6000.0</td>\n",
       "      <td>1977-03-13</td>\n",
       "      <td>Professional</td>\n",
       "      <td>6000.0</td>\n",
       "      <td>2001-09-02</td>\n",
       "      <td>7.0</td>\n",
       "      <td>NaN</td>\n",
       "    </tr>\n",
       "    <tr>\n",
       "      <th>2</th>\n",
       "      <td>2011-01-02</td>\n",
       "      <td>1969-04-06</td>\n",
       "      <td>Preparatory</td>\n",
       "      <td>5000.0</td>\n",
       "      <td>1970-02-16</td>\n",
       "      <td>Professional</td>\n",
       "      <td>5000.0</td>\n",
       "      <td>2000-02-02</td>\n",
       "      <td>2.0</td>\n",
       "      <td>2.0</td>\n",
       "    </tr>\n",
       "    <tr>\n",
       "      <th>3</th>\n",
       "      <td>2011-01-02</td>\n",
       "      <td>1979-11-13</td>\n",
       "      <td>Secondary</td>\n",
       "      <td>12000.0</td>\n",
       "      <td>1981-05-13</td>\n",
       "      <td>Secondary</td>\n",
       "      <td>12000.0</td>\n",
       "      <td>2006-05-13</td>\n",
       "      <td>2.0</td>\n",
       "      <td>NaN</td>\n",
       "    </tr>\n",
       "    <tr>\n",
       "      <th>4</th>\n",
       "      <td>2011-01-02</td>\n",
       "      <td>1982-09-20</td>\n",
       "      <td>Professional</td>\n",
       "      <td>6000.0</td>\n",
       "      <td>1988-01-30</td>\n",
       "      <td>Professional</td>\n",
       "      <td>10000.0</td>\n",
       "      <td>2007-08-06</td>\n",
       "      <td>3.0</td>\n",
       "      <td>NaN</td>\n",
       "    </tr>\n",
       "  </tbody>\n",
       "</table>\n",
       "</div>"
      ],
      "text/plain": [
       "  divorce_date     dob_man education_man  income_man   dob_woman  \\\n",
       "0   2006-09-06  1975-12-18     Secondary      2000.0  1983-08-01   \n",
       "1   2008-01-02  1976-11-17  Professional      6000.0  1977-03-13   \n",
       "2   2011-01-02  1969-04-06   Preparatory      5000.0  1970-02-16   \n",
       "3   2011-01-02  1979-11-13     Secondary     12000.0  1981-05-13   \n",
       "4   2011-01-02  1982-09-20  Professional      6000.0  1988-01-30   \n",
       "\n",
       "  education_woman  income_woman marriage_date  marriage_duration  num_kids  \n",
       "0       Secondary        1800.0    2000-06-26                5.0       1.0  \n",
       "1    Professional        6000.0    2001-09-02                7.0       NaN  \n",
       "2    Professional        5000.0    2000-02-02                2.0       2.0  \n",
       "3       Secondary       12000.0    2006-05-13                2.0       NaN  \n",
       "4    Professional       10000.0    2007-08-06                3.0       NaN  "
      ]
     },
     "execution_count": 30,
     "metadata": {},
     "output_type": "execute_result"
    }
   ],
   "source": [
    "divorce = pd.read_csv('Datasets/divorce.csv')\n",
    "divorce.head()"
   ]
  },
  {
   "cell_type": "markdown",
   "metadata": {},
   "source": [
    "## Explore data"
   ]
  },
  {
   "cell_type": "code",
   "execution_count": 31,
   "metadata": {},
   "outputs": [
    {
     "data": {
      "text/plain": [
       "(2209, 10)"
      ]
     },
     "execution_count": 31,
     "metadata": {},
     "output_type": "execute_result"
    }
   ],
   "source": [
    "divorce.shape"
   ]
  },
  {
   "cell_type": "code",
   "execution_count": 32,
   "metadata": {},
   "outputs": [
    {
     "data": {
      "text/plain": [
       "Index(['divorce_date', 'dob_man', 'education_man', 'income_man', 'dob_woman',\n",
       "       'education_woman', 'income_woman', 'marriage_date', 'marriage_duration',\n",
       "       'num_kids'],\n",
       "      dtype='object')"
      ]
     },
     "execution_count": 32,
     "metadata": {},
     "output_type": "execute_result"
    }
   ],
   "source": [
    "divorce.columns"
   ]
  },
  {
   "cell_type": "code",
   "execution_count": 33,
   "metadata": {},
   "outputs": [
    {
     "data": {
      "text/html": [
       "<div>\n",
       "<style scoped>\n",
       "    .dataframe tbody tr th:only-of-type {\n",
       "        vertical-align: middle;\n",
       "    }\n",
       "\n",
       "    .dataframe tbody tr th {\n",
       "        vertical-align: top;\n",
       "    }\n",
       "\n",
       "    .dataframe thead th {\n",
       "        text-align: right;\n",
       "    }\n",
       "</style>\n",
       "<table border=\"1\" class=\"dataframe\">\n",
       "  <thead>\n",
       "    <tr style=\"text-align: right;\">\n",
       "      <th></th>\n",
       "      <th>income_man</th>\n",
       "      <th>income_woman</th>\n",
       "      <th>marriage_duration</th>\n",
       "      <th>num_kids</th>\n",
       "    </tr>\n",
       "  </thead>\n",
       "  <tbody>\n",
       "    <tr>\n",
       "      <th>count</th>\n",
       "      <td>2209.000000</td>\n",
       "      <td>2209.000000</td>\n",
       "      <td>2209.000000</td>\n",
       "      <td>1333.000000</td>\n",
       "    </tr>\n",
       "    <tr>\n",
       "      <th>mean</th>\n",
       "      <td>7922.986410</td>\n",
       "      <td>6793.164545</td>\n",
       "      <td>9.606609</td>\n",
       "      <td>1.672918</td>\n",
       "    </tr>\n",
       "    <tr>\n",
       "      <th>std</th>\n",
       "      <td>7693.796497</td>\n",
       "      <td>6562.928689</td>\n",
       "      <td>7.266696</td>\n",
       "      <td>0.732858</td>\n",
       "    </tr>\n",
       "    <tr>\n",
       "      <th>min</th>\n",
       "      <td>3.000000</td>\n",
       "      <td>3.500000</td>\n",
       "      <td>1.000000</td>\n",
       "      <td>1.000000</td>\n",
       "    </tr>\n",
       "    <tr>\n",
       "      <th>25%</th>\n",
       "      <td>3600.000000</td>\n",
       "      <td>3000.000000</td>\n",
       "      <td>4.000000</td>\n",
       "      <td>1.000000</td>\n",
       "    </tr>\n",
       "    <tr>\n",
       "      <th>50%</th>\n",
       "      <td>6000.000000</td>\n",
       "      <td>5000.000000</td>\n",
       "      <td>8.000000</td>\n",
       "      <td>2.000000</td>\n",
       "    </tr>\n",
       "    <tr>\n",
       "      <th>75%</th>\n",
       "      <td>10000.000000</td>\n",
       "      <td>8000.000000</td>\n",
       "      <td>14.000000</td>\n",
       "      <td>2.000000</td>\n",
       "    </tr>\n",
       "    <tr>\n",
       "      <th>max</th>\n",
       "      <td>80000.000000</td>\n",
       "      <td>90000.000000</td>\n",
       "      <td>32.000000</td>\n",
       "      <td>5.000000</td>\n",
       "    </tr>\n",
       "  </tbody>\n",
       "</table>\n",
       "</div>"
      ],
      "text/plain": [
       "         income_man  income_woman  marriage_duration     num_kids\n",
       "count   2209.000000   2209.000000        2209.000000  1333.000000\n",
       "mean    7922.986410   6793.164545           9.606609     1.672918\n",
       "std     7693.796497   6562.928689           7.266696     0.732858\n",
       "min        3.000000      3.500000           1.000000     1.000000\n",
       "25%     3600.000000   3000.000000           4.000000     1.000000\n",
       "50%     6000.000000   5000.000000           8.000000     2.000000\n",
       "75%    10000.000000   8000.000000          14.000000     2.000000\n",
       "max    80000.000000  90000.000000          32.000000     5.000000"
      ]
     },
     "execution_count": 33,
     "metadata": {},
     "output_type": "execute_result"
    }
   ],
   "source": [
    "divorce.describe()"
   ]
  },
  {
   "cell_type": "code",
   "execution_count": 34,
   "metadata": {},
   "outputs": [
    {
     "name": "stdout",
     "output_type": "stream",
     "text": [
      "<class 'pandas.core.frame.DataFrame'>\n",
      "RangeIndex: 2209 entries, 0 to 2208\n",
      "Data columns (total 10 columns):\n",
      " #   Column             Non-Null Count  Dtype  \n",
      "---  ------             --------------  -----  \n",
      " 0   divorce_date       2209 non-null   object \n",
      " 1   dob_man            2209 non-null   object \n",
      " 2   education_man      2205 non-null   object \n",
      " 3   income_man         2209 non-null   float64\n",
      " 4   dob_woman          2209 non-null   object \n",
      " 5   education_woman    2209 non-null   object \n",
      " 6   income_woman       2209 non-null   float64\n",
      " 7   marriage_date      2209 non-null   object \n",
      " 8   marriage_duration  2209 non-null   float64\n",
      " 9   num_kids           1333 non-null   float64\n",
      "dtypes: float64(4), object(6)\n",
      "memory usage: 172.7+ KB\n"
     ]
    }
   ],
   "source": [
    "divorce.info()"
   ]
  },
  {
   "cell_type": "markdown",
   "metadata": {},
   "source": [
    "## Checking duplicate data"
   ]
  },
  {
   "cell_type": "code",
   "execution_count": 35,
   "metadata": {},
   "outputs": [
    {
     "data": {
      "text/html": [
       "<div>\n",
       "<style scoped>\n",
       "    .dataframe tbody tr th:only-of-type {\n",
       "        vertical-align: middle;\n",
       "    }\n",
       "\n",
       "    .dataframe tbody tr th {\n",
       "        vertical-align: top;\n",
       "    }\n",
       "\n",
       "    .dataframe thead th {\n",
       "        text-align: right;\n",
       "    }\n",
       "</style>\n",
       "<table border=\"1\" class=\"dataframe\">\n",
       "  <thead>\n",
       "    <tr style=\"text-align: right;\">\n",
       "      <th></th>\n",
       "      <th>divorce_date</th>\n",
       "      <th>dob_man</th>\n",
       "      <th>education_man</th>\n",
       "      <th>income_man</th>\n",
       "      <th>dob_woman</th>\n",
       "      <th>education_woman</th>\n",
       "      <th>income_woman</th>\n",
       "      <th>marriage_date</th>\n",
       "      <th>marriage_duration</th>\n",
       "      <th>num_kids</th>\n",
       "    </tr>\n",
       "  </thead>\n",
       "  <tbody>\n",
       "  </tbody>\n",
       "</table>\n",
       "</div>"
      ],
      "text/plain": [
       "Empty DataFrame\n",
       "Columns: [divorce_date, dob_man, education_man, income_man, dob_woman, education_woman, income_woman, marriage_date, marriage_duration, num_kids]\n",
       "Index: []"
      ]
     },
     "execution_count": 35,
     "metadata": {},
     "output_type": "execute_result"
    }
   ],
   "source": [
    "divorce[divorce.duplicated(keep=\"first\")]"
   ]
  },
  {
   "cell_type": "code",
   "execution_count": 36,
   "metadata": {},
   "outputs": [
    {
     "data": {
      "text/plain": [
       "0"
      ]
     },
     "execution_count": 36,
     "metadata": {},
     "output_type": "execute_result"
    }
   ],
   "source": [
    "divorce.duplicated(keep=\"first\").sum()"
   ]
  },
  {
   "cell_type": "markdown",
   "metadata": {},
   "source": [
    "## Checking for null data"
   ]
  },
  {
   "cell_type": "code",
   "execution_count": 37,
   "metadata": {},
   "outputs": [
    {
     "data": {
      "text/plain": [
       "divorce_date           0\n",
       "dob_man                0\n",
       "education_man          4\n",
       "income_man             0\n",
       "dob_woman              0\n",
       "education_woman        0\n",
       "income_woman           0\n",
       "marriage_date          0\n",
       "marriage_duration      0\n",
       "num_kids             876\n",
       "dtype: int64"
      ]
     },
     "execution_count": 37,
     "metadata": {},
     "output_type": "execute_result"
    }
   ],
   "source": [
    "divorce.isna().sum()"
   ]
  },
  {
   "cell_type": "code",
   "execution_count": 38,
   "metadata": {},
   "outputs": [
    {
     "data": {
      "text/plain": [
       "divorce_date          0.000000\n",
       "dob_man               0.000000\n",
       "education_man         0.181077\n",
       "income_man            0.000000\n",
       "dob_woman             0.000000\n",
       "education_woman       0.000000\n",
       "income_woman          0.000000\n",
       "marriage_date         0.000000\n",
       "marriage_duration     0.000000\n",
       "num_kids             39.655953\n",
       "dtype: float64"
      ]
     },
     "execution_count": 38,
     "metadata": {},
     "output_type": "execute_result"
    }
   ],
   "source": [
    "(divorce.isna().sum() / (len(divorce))) * 100"
   ]
  },
  {
   "cell_type": "code",
   "execution_count": 39,
   "metadata": {},
   "outputs": [
    {
     "data": {
      "text/html": [
       "<div>\n",
       "<style scoped>\n",
       "    .dataframe tbody tr th:only-of-type {\n",
       "        vertical-align: middle;\n",
       "    }\n",
       "\n",
       "    .dataframe tbody tr th {\n",
       "        vertical-align: top;\n",
       "    }\n",
       "\n",
       "    .dataframe thead th {\n",
       "        text-align: right;\n",
       "    }\n",
       "</style>\n",
       "<table border=\"1\" class=\"dataframe\">\n",
       "  <thead>\n",
       "    <tr style=\"text-align: right;\">\n",
       "      <th></th>\n",
       "      <th>divorce_date</th>\n",
       "      <th>dob_man</th>\n",
       "      <th>education_man</th>\n",
       "      <th>income_man</th>\n",
       "      <th>dob_woman</th>\n",
       "      <th>education_woman</th>\n",
       "      <th>income_woman</th>\n",
       "      <th>marriage_date</th>\n",
       "      <th>marriage_duration</th>\n",
       "      <th>num_kids</th>\n",
       "    </tr>\n",
       "  </thead>\n",
       "  <tbody>\n",
       "    <tr>\n",
       "      <th>246</th>\n",
       "      <td>2011-04-07</td>\n",
       "      <td>1979-08-04</td>\n",
       "      <td>NaN</td>\n",
       "      <td>3600.0</td>\n",
       "      <td>1976-05-02</td>\n",
       "      <td>Primary</td>\n",
       "      <td>3400.0</td>\n",
       "      <td>1997-07-18</td>\n",
       "      <td>13.0</td>\n",
       "      <td>2.0</td>\n",
       "    </tr>\n",
       "    <tr>\n",
       "      <th>635</th>\n",
       "      <td>2008-09-10</td>\n",
       "      <td>1967-02-23</td>\n",
       "      <td>NaN</td>\n",
       "      <td>5000.0</td>\n",
       "      <td>1970-04-02</td>\n",
       "      <td>Secondary</td>\n",
       "      <td>1600.0</td>\n",
       "      <td>1988-03-10</td>\n",
       "      <td>6.0</td>\n",
       "      <td>3.0</td>\n",
       "    </tr>\n",
       "    <tr>\n",
       "      <th>1665</th>\n",
       "      <td>2014-06-23</td>\n",
       "      <td>1983-01-01</td>\n",
       "      <td>NaN</td>\n",
       "      <td>1700.0</td>\n",
       "      <td>1989-01-01</td>\n",
       "      <td>Secondary</td>\n",
       "      <td>1700.0</td>\n",
       "      <td>2006-06-09</td>\n",
       "      <td>8.0</td>\n",
       "      <td>1.0</td>\n",
       "    </tr>\n",
       "    <tr>\n",
       "      <th>1753</th>\n",
       "      <td>2012-01-25</td>\n",
       "      <td>1978-07-09</td>\n",
       "      <td>NaN</td>\n",
       "      <td>3000.0</td>\n",
       "      <td>1974-03-23</td>\n",
       "      <td>Preparatory</td>\n",
       "      <td>4000.0</td>\n",
       "      <td>2010-10-12</td>\n",
       "      <td>1.0</td>\n",
       "      <td>NaN</td>\n",
       "    </tr>\n",
       "  </tbody>\n",
       "</table>\n",
       "</div>"
      ],
      "text/plain": [
       "     divorce_date     dob_man education_man  income_man   dob_woman  \\\n",
       "246    2011-04-07  1979-08-04           NaN      3600.0  1976-05-02   \n",
       "635    2008-09-10  1967-02-23           NaN      5000.0  1970-04-02   \n",
       "1665   2014-06-23  1983-01-01           NaN      1700.0  1989-01-01   \n",
       "1753   2012-01-25  1978-07-09           NaN      3000.0  1974-03-23   \n",
       "\n",
       "     education_woman  income_woman marriage_date  marriage_duration  num_kids  \n",
       "246          Primary        3400.0    1997-07-18               13.0       2.0  \n",
       "635        Secondary        1600.0    1988-03-10                6.0       3.0  \n",
       "1665       Secondary        1700.0    2006-06-09                8.0       1.0  \n",
       "1753     Preparatory        4000.0    2010-10-12                1.0       NaN  "
      ]
     },
     "execution_count": 39,
     "metadata": {},
     "output_type": "execute_result"
    }
   ],
   "source": [
    "divorce.loc[divorce['education_man'].isna(),:]"
   ]
  },
  {
   "cell_type": "code",
   "execution_count": 40,
   "metadata": {},
   "outputs": [
    {
     "name": "stdout",
     "output_type": "stream",
     "text": [
      "110.45\n",
      "Index(['divorce_date', 'dob_man', 'education_man', 'income_man', 'dob_woman',\n",
      "       'education_woman', 'income_woman', 'marriage_date',\n",
      "       'marriage_duration'],\n",
      "      dtype='object')\n"
     ]
    }
   ],
   "source": [
    "limit = len(divorce) * 0.05 # 5% check\n",
    "print(limit)\n",
    "cols_to_drop = divorce.columns[divorce.isna().sum() <= limit]\n",
    "print(cols_to_drop)"
   ]
  },
  {
   "cell_type": "code",
   "execution_count": 41,
   "metadata": {},
   "outputs": [],
   "source": [
    "divorce.dropna(subset=cols_to_drop, inplace=True)"
   ]
  },
  {
   "cell_type": "code",
   "execution_count": 42,
   "metadata": {},
   "outputs": [
    {
     "data": {
      "text/plain": [
       "divorce_date           0\n",
       "dob_man                0\n",
       "education_man          0\n",
       "income_man             0\n",
       "dob_woman              0\n",
       "education_woman        0\n",
       "income_woman           0\n",
       "marriage_date          0\n",
       "marriage_duration      0\n",
       "num_kids             875\n",
       "dtype: int64"
      ]
     },
     "execution_count": 42,
     "metadata": {},
     "output_type": "execute_result"
    }
   ],
   "source": [
    "divorce.isna().sum()"
   ]
  },
  {
   "cell_type": "code",
   "execution_count": 43,
   "metadata": {},
   "outputs": [
    {
     "data": {
      "text/html": [
       "<div>\n",
       "<style scoped>\n",
       "    .dataframe tbody tr th:only-of-type {\n",
       "        vertical-align: middle;\n",
       "    }\n",
       "\n",
       "    .dataframe tbody tr th {\n",
       "        vertical-align: top;\n",
       "    }\n",
       "\n",
       "    .dataframe thead th {\n",
       "        text-align: right;\n",
       "    }\n",
       "</style>\n",
       "<table border=\"1\" class=\"dataframe\">\n",
       "  <thead>\n",
       "    <tr style=\"text-align: right;\">\n",
       "      <th></th>\n",
       "      <th>divorce_date</th>\n",
       "      <th>dob_man</th>\n",
       "      <th>education_man</th>\n",
       "      <th>income_man</th>\n",
       "      <th>dob_woman</th>\n",
       "      <th>education_woman</th>\n",
       "      <th>income_woman</th>\n",
       "      <th>marriage_date</th>\n",
       "      <th>marriage_duration</th>\n",
       "      <th>num_kids</th>\n",
       "    </tr>\n",
       "  </thead>\n",
       "  <tbody>\n",
       "    <tr>\n",
       "      <th>1</th>\n",
       "      <td>2008-01-02</td>\n",
       "      <td>1976-11-17</td>\n",
       "      <td>Professional</td>\n",
       "      <td>6000.0</td>\n",
       "      <td>1977-03-13</td>\n",
       "      <td>Professional</td>\n",
       "      <td>6000.0</td>\n",
       "      <td>2001-09-02</td>\n",
       "      <td>7.0</td>\n",
       "      <td>NaN</td>\n",
       "    </tr>\n",
       "    <tr>\n",
       "      <th>3</th>\n",
       "      <td>2011-01-02</td>\n",
       "      <td>1979-11-13</td>\n",
       "      <td>Secondary</td>\n",
       "      <td>12000.0</td>\n",
       "      <td>1981-05-13</td>\n",
       "      <td>Secondary</td>\n",
       "      <td>12000.0</td>\n",
       "      <td>2006-05-13</td>\n",
       "      <td>2.0</td>\n",
       "      <td>NaN</td>\n",
       "    </tr>\n",
       "    <tr>\n",
       "      <th>4</th>\n",
       "      <td>2011-01-02</td>\n",
       "      <td>1982-09-20</td>\n",
       "      <td>Professional</td>\n",
       "      <td>6000.0</td>\n",
       "      <td>1988-01-30</td>\n",
       "      <td>Professional</td>\n",
       "      <td>10000.0</td>\n",
       "      <td>2007-08-06</td>\n",
       "      <td>3.0</td>\n",
       "      <td>NaN</td>\n",
       "    </tr>\n",
       "    <tr>\n",
       "      <th>5</th>\n",
       "      <td>2012-01-02</td>\n",
       "      <td>1973-09-07</td>\n",
       "      <td>Professional</td>\n",
       "      <td>20000.0</td>\n",
       "      <td>1974-05-20</td>\n",
       "      <td>Professional</td>\n",
       "      <td>15.0</td>\n",
       "      <td>2000-03-08</td>\n",
       "      <td>11.0</td>\n",
       "      <td>NaN</td>\n",
       "    </tr>\n",
       "    <tr>\n",
       "      <th>11</th>\n",
       "      <td>2010-01-03</td>\n",
       "      <td>1987-05-04</td>\n",
       "      <td>Preparatory</td>\n",
       "      <td>2000.0</td>\n",
       "      <td>1986-09-21</td>\n",
       "      <td>Preparatory</td>\n",
       "      <td>2000.0</td>\n",
       "      <td>2005-07-12</td>\n",
       "      <td>4.0</td>\n",
       "      <td>NaN</td>\n",
       "    </tr>\n",
       "  </tbody>\n",
       "</table>\n",
       "</div>"
      ],
      "text/plain": [
       "   divorce_date     dob_man education_man  income_man   dob_woman  \\\n",
       "1    2008-01-02  1976-11-17  Professional      6000.0  1977-03-13   \n",
       "3    2011-01-02  1979-11-13     Secondary     12000.0  1981-05-13   \n",
       "4    2011-01-02  1982-09-20  Professional      6000.0  1988-01-30   \n",
       "5    2012-01-02  1973-09-07  Professional     20000.0  1974-05-20   \n",
       "11   2010-01-03  1987-05-04   Preparatory      2000.0  1986-09-21   \n",
       "\n",
       "   education_woman  income_woman marriage_date  marriage_duration  num_kids  \n",
       "1     Professional        6000.0    2001-09-02                7.0       NaN  \n",
       "3        Secondary       12000.0    2006-05-13                2.0       NaN  \n",
       "4     Professional       10000.0    2007-08-06                3.0       NaN  \n",
       "5     Professional          15.0    2000-03-08               11.0       NaN  \n",
       "11     Preparatory        2000.0    2005-07-12                4.0       NaN  "
      ]
     },
     "execution_count": 43,
     "metadata": {},
     "output_type": "execute_result"
    }
   ],
   "source": [
    "divorce.loc[divorce.isnull().any(axis=1)].head()"
   ]
  },
  {
   "cell_type": "code",
   "execution_count": 44,
   "metadata": {},
   "outputs": [
    {
     "data": {
      "text/plain": [
       "(2205, 10)"
      ]
     },
     "execution_count": 44,
     "metadata": {},
     "output_type": "execute_result"
    }
   ],
   "source": [
    "divorce.shape"
   ]
  },
  {
   "cell_type": "code",
   "execution_count": 45,
   "metadata": {},
   "outputs": [
    {
     "data": {
      "text/plain": [
       "num_kids\n",
       "1.0    620\n",
       "2.0    549\n",
       "3.0    141\n",
       "4.0     17\n",
       "5.0      3\n",
       "Name: count, dtype: int64"
      ]
     },
     "execution_count": 45,
     "metadata": {},
     "output_type": "execute_result"
    }
   ],
   "source": [
    "divorce[\"num_kids\"].value_counts()"
   ]
  },
  {
   "cell_type": "code",
   "execution_count": 46,
   "metadata": {},
   "outputs": [
    {
     "data": {
      "image/png": "[encoded data removed]",
      "text/plain": [
       "<Figure size 500x500 with 1 Axes>"
      ]
     },
     "metadata": {},
     "output_type": "display_data"
    }
   ],
   "source": [
    "sns.catplot(data=divorce, x=\"marriage_duration\", y=\"num_kids\", kind=\"box\")\n",
    "sns.despine()"
   ]
  },
  {
   "cell_type": "code",
   "execution_count": 47,
   "metadata": {},
   "outputs": [
    {
     "data": {
      "text/plain": [
       "divorce_date         0\n",
       "dob_man              0\n",
       "education_man        0\n",
       "income_man           0\n",
       "dob_woman            0\n",
       "education_woman      0\n",
       "income_woman         0\n",
       "marriage_date        0\n",
       "marriage_duration    0\n",
       "num_kids             0\n",
       "dtype: int64"
      ]
     },
     "execution_count": 47,
     "metadata": {},
     "output_type": "execute_result"
    }
   ],
   "source": [
    "# Imputing median of num_kids by grouping by marriage_duration\n",
    "# As the plot above shows that the data is right skewed so imputing mean wouldn't be a good choice\n",
    "\n",
    "duruation_kids = divorce.groupby(\"marriage_duration\")[\"num_kids\"].median()\n",
    "kids_dict = duruation_kids.to_dict()\n",
    "\n",
    "# Map the dictionary to the missing values\n",
    "divorce[\"num_kids\"] = divorce[\"num_kids\"].fillna(divorce[\"marriage_duration\"].map(kids_dict))\n",
    "\n",
    "divorce.isna().sum()"
   ]
  },
  {
   "cell_type": "code",
   "execution_count": 48,
   "metadata": {},
   "outputs": [
    {
     "data": {
      "text/plain": [
       "num_kids\n",
       "1.0    1365\n",
       "2.0     679\n",
       "3.0     141\n",
       "4.0      17\n",
       "5.0       3\n",
       "Name: count, dtype: int64"
      ]
     },
     "execution_count": 48,
     "metadata": {},
     "output_type": "execute_result"
    }
   ],
   "source": [
    "divorce[\"num_kids\"].value_counts()"
   ]
  },
  {
   "cell_type": "markdown",
   "metadata": {},
   "source": [
    "## Changing data types"
   ]
  },
  {
   "cell_type": "code",
   "execution_count": 49,
   "metadata": {},
   "outputs": [
    {
     "data": {
      "text/plain": [
       "divorce_date         datetime64[ns]\n",
       "dob_man              datetime64[ns]\n",
       "education_man                object\n",
       "income_man                  float64\n",
       "dob_woman            datetime64[ns]\n",
       "education_woman              object\n",
       "income_woman                float64\n",
       "marriage_date        datetime64[ns]\n",
       "marriage_duration           float64\n",
       "num_kids                    float64\n",
       "dtype: object"
      ]
     },
     "execution_count": 49,
     "metadata": {},
     "output_type": "execute_result"
    }
   ],
   "source": [
    "# during import we can directly do it like if we knoe dataset beforehand:\n",
    "# divorce = pd.read_csv('divorce.csv', parse_dates=['divorce_date', 'dob_man', 'dob_woman', 'marriage_date'])\n",
    "\n",
    "divorce[\"marriage_date\"] = pd.to_datetime(divorce[\"marriage_date\"])\n",
    "divorce[\"divorce_date\"] = pd.to_datetime(divorce[\"divorce_date\"])\n",
    "divorce[\"dob_man\"] = pd.to_datetime(divorce[\"dob_man\"])\n",
    "divorce[\"dob_woman\"] = pd.to_datetime(divorce[\"dob_woman\"])\n",
    "divorce.dtypes"
   ]
  },
  {
   "cell_type": "code",
   "execution_count": 50,
   "metadata": {},
   "outputs": [
    {
     "name": "stdout",
     "output_type": "stream",
     "text": [
      "0    6\n",
      "1    9\n",
      "2    2\n",
      "3    5\n",
      "4    8\n",
      "Name: marriage_date, dtype: int32\n",
      "0    26\n",
      "1     2\n",
      "2     2\n",
      "3    13\n",
      "4     6\n",
      "Name: marriage_date, dtype: int32\n",
      "0    2000\n",
      "1    2001\n",
      "2    2000\n",
      "3    2006\n",
      "4    2007\n",
      "Name: marriage_date, dtype: int32\n"
     ]
    }
   ],
   "source": [
    "print(divorce[\"marriage_date\"].dt.month.head())\n",
    "print(divorce[\"marriage_date\"].dt.day.head())\n",
    "print(divorce[\"marriage_date\"].dt.year.head())"
   ]
  },
  {
   "cell_type": "markdown",
   "metadata": {},
   "source": [
    "## Handling outliers"
   ]
  },
  {
   "cell_type": "code",
   "execution_count": 51,
   "metadata": {},
   "outputs": [
    {
     "data": {
      "text/plain": [
       "<Axes: >"
      ]
     },
     "execution_count": 51,
     "metadata": {},
     "output_type": "execute_result"
    },
    {
     "data": {
      "image/png": "[encoded data removed]",
      "text/plain": [
       "<Figure size 640x480 with 1 Axes>"
      ]
     },
     "metadata": {},
     "output_type": "display_data"
    }
   ],
   "source": [
    "sns.histplot(data=divorce, )"
   ]
  },
  {
   "cell_type": "markdown",
   "metadata": {},
   "source": [
    "## Visualization"
   ]
  },
  {
   "cell_type": "code",
   "execution_count": 52,
   "metadata": {},
   "outputs": [
    {
     "data": {
      "image/png": "[encoded data removed]",
      "text/plain": [
       "<Figure size 500x500 with 6 Axes>"
      ]
     },
     "metadata": {},
     "output_type": "display_data"
    }
   ],
   "source": [
    "sns.pairplot(data=divorce, vars=['income_woman','marriage_duration'])\n",
    "\n",
    "plt.show()"
   ]
  },
  {
   "cell_type": "code",
   "execution_count": 53,
   "metadata": {},
   "outputs": [
    {
     "data": {
      "image/png": "[encoded data removed]",
      "text/plain": [
       "<Figure size 640x480 with 1 Axes>"
      ]
     },
     "metadata": {},
     "output_type": "display_data"
    }
   ],
   "source": [
    "sns.scatterplot(data=divorce,x=\"marriage_duration\", y=\"num_kids\")\n",
    "plt.show()"
   ]
  },
  {
   "cell_type": "code",
   "execution_count": 54,
   "metadata": {},
   "outputs": [
    {
     "data": {
      "image/png": "[encoded data removed]",
      "text/plain": [
       "<Figure size 640x480 with 1 Axes>"
      ]
     },
     "metadata": {},
     "output_type": "display_data"
    }
   ],
   "source": [
    "sns.lineplot(data=divorce,x=\"marriage_date\", y=\"num_kids\")\n",
    "plt.show()"
   ]
  }
 ],
 "metadata": {
  "kernelspec": {
   "display_name": "Python 3",
   "language": "python",
   "name": "python3"
  },
  "language_info": {
   "codemirror_mode": {
    "name": "ipython",
    "version": 3
   },
   "file_extension": ".py",
   "mimetype": "text/x-python",
   "name": "python",
   "nbconvert_exporter": "python",
   "pygments_lexer": "ipython3",
   "version": "3.11.3"
  },
  "orig_nbformat": 4
 },
 "nbformat": 4,
 "nbformat_minor": 2
}
