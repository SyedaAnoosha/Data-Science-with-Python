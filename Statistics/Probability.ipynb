{
 "cells": [
  {
   "cell_type": "markdown",
   "metadata": {},
   "source": [
    "# Probability"
   ]
  },
  {
   "cell_type": "code",
   "execution_count": 39,
   "metadata": {},
   "outputs": [],
   "source": [
    "import pandas as pd\n",
    "import numpy as np\n",
    "import matplotlib.pyplot as plt\n",
    "from scipy.stats import uniform\n",
    "from scipy.stats import binom"
   ]
  },
  {
   "cell_type": "code",
   "execution_count": 40,
   "metadata": {},
   "outputs": [
    {
     "data": {
      "text/html": [
       "<div>\n",
       "<style scoped>\n",
       "    .dataframe tbody tr th:only-of-type {\n",
       "        vertical-align: middle;\n",
       "    }\n",
       "\n",
       "    .dataframe tbody tr th {\n",
       "        vertical-align: top;\n",
       "    }\n",
       "\n",
       "    .dataframe thead th {\n",
       "        text-align: right;\n",
       "    }\n",
       "</style>\n",
       "<table border=\"1\" class=\"dataframe\">\n",
       "  <thead>\n",
       "    <tr style=\"text-align: right;\">\n",
       "      <th></th>\n",
       "      <th>Unnamed: 0</th>\n",
       "      <th>product</th>\n",
       "      <th>client</th>\n",
       "      <th>status</th>\n",
       "      <th>amount</th>\n",
       "      <th>num_users</th>\n",
       "    </tr>\n",
       "  </thead>\n",
       "  <tbody>\n",
       "    <tr>\n",
       "      <th>0</th>\n",
       "      <td>1</td>\n",
       "      <td>Product F</td>\n",
       "      <td>Current</td>\n",
       "      <td>Won</td>\n",
       "      <td>7389.52</td>\n",
       "      <td>19</td>\n",
       "    </tr>\n",
       "    <tr>\n",
       "      <th>1</th>\n",
       "      <td>2</td>\n",
       "      <td>Product C</td>\n",
       "      <td>New</td>\n",
       "      <td>Won</td>\n",
       "      <td>4493.01</td>\n",
       "      <td>43</td>\n",
       "    </tr>\n",
       "    <tr>\n",
       "      <th>2</th>\n",
       "      <td>3</td>\n",
       "      <td>Product B</td>\n",
       "      <td>New</td>\n",
       "      <td>Won</td>\n",
       "      <td>5738.09</td>\n",
       "      <td>87</td>\n",
       "    </tr>\n",
       "    <tr>\n",
       "      <th>3</th>\n",
       "      <td>4</td>\n",
       "      <td>Product I</td>\n",
       "      <td>Current</td>\n",
       "      <td>Won</td>\n",
       "      <td>2591.24</td>\n",
       "      <td>83</td>\n",
       "    </tr>\n",
       "    <tr>\n",
       "      <th>4</th>\n",
       "      <td>5</td>\n",
       "      <td>Product E</td>\n",
       "      <td>Current</td>\n",
       "      <td>Won</td>\n",
       "      <td>6622.97</td>\n",
       "      <td>17</td>\n",
       "    </tr>\n",
       "  </tbody>\n",
       "</table>\n",
       "</div>"
      ],
      "text/plain": [
       "   Unnamed: 0    product   client status   amount  num_users\n",
       "0           1  Product F  Current    Won  7389.52         19\n",
       "1           2  Product C      New    Won  4493.01         43\n",
       "2           3  Product B      New    Won  5738.09         87\n",
       "3           4  Product I  Current    Won  2591.24         83\n",
       "4           5  Product E  Current    Won  6622.97         17"
      ]
     },
     "execution_count": 40,
     "metadata": {},
     "output_type": "execute_result"
    }
   ],
   "source": [
    "amir_deals=pd.read_csv('Datasets/amir_deals.csv')\n",
    "amir_deals.head()"
   ]
  },
  {
   "cell_type": "code",
   "execution_count": 41,
   "metadata": {},
   "outputs": [
    {
     "data": {
      "text/plain": [
       "product\n",
       "Product B    62\n",
       "Product D    40\n",
       "Product A    23\n",
       "Product C    15\n",
       "Product F    11\n",
       "Product H     8\n",
       "Product I     7\n",
       "Product E     5\n",
       "Product N     3\n",
       "Product G     2\n",
       "Product J     2\n",
       "Name: count, dtype: int64"
      ]
     },
     "execution_count": 41,
     "metadata": {},
     "output_type": "execute_result"
    }
   ],
   "source": [
    "# Count the deals for each product\n",
    "counts = amir_deals['product'].value_counts()\n",
    "counts"
   ]
  },
  {
   "cell_type": "code",
   "execution_count": 42,
   "metadata": {},
   "outputs": [
    {
     "data": {
      "text/plain": [
       "product\n",
       "Product B    0.348315\n",
       "Product D    0.224719\n",
       "Product A    0.129213\n",
       "Product C    0.084270\n",
       "Product F    0.061798\n",
       "Product H    0.044944\n",
       "Product I    0.039326\n",
       "Product E    0.028090\n",
       "Product N    0.016854\n",
       "Product G    0.011236\n",
       "Product J    0.011236\n",
       "Name: count, dtype: float64"
      ]
     },
     "execution_count": 42,
     "metadata": {},
     "output_type": "execute_result"
    }
   ],
   "source": [
    "# probability of picking a deal with each product\n",
    "probs = counts/amir_deals.shape[0]\n",
    "probs"
   ]
  },
  {
   "cell_type": "code",
   "execution_count": 43,
   "metadata": {},
   "outputs": [],
   "source": [
    "# If you randomly select one of Amir's deals, what's the probability that the deal will involve Product C?\n",
    "# Product C : 15\n",
    "# Total products: 178\n",
    "# Probab: 15/178 = 8.42%"
   ]
  },
  {
   "cell_type": "code",
   "execution_count": 44,
   "metadata": {},
   "outputs": [
    {
     "data": {
      "text/html": [
       "<div>\n",
       "<style scoped>\n",
       "    .dataframe tbody tr th:only-of-type {\n",
       "        vertical-align: middle;\n",
       "    }\n",
       "\n",
       "    .dataframe tbody tr th {\n",
       "        vertical-align: top;\n",
       "    }\n",
       "\n",
       "    .dataframe thead th {\n",
       "        text-align: right;\n",
       "    }\n",
       "</style>\n",
       "<table border=\"1\" class=\"dataframe\">\n",
       "  <thead>\n",
       "    <tr style=\"text-align: right;\">\n",
       "      <th></th>\n",
       "      <th>Unnamed: 0</th>\n",
       "      <th>product</th>\n",
       "      <th>client</th>\n",
       "      <th>status</th>\n",
       "      <th>amount</th>\n",
       "      <th>num_users</th>\n",
       "    </tr>\n",
       "  </thead>\n",
       "  <tbody>\n",
       "    <tr>\n",
       "      <th>127</th>\n",
       "      <td>128</td>\n",
       "      <td>Product B</td>\n",
       "      <td>Current</td>\n",
       "      <td>Won</td>\n",
       "      <td>2070.25</td>\n",
       "      <td>7</td>\n",
       "    </tr>\n",
       "    <tr>\n",
       "      <th>148</th>\n",
       "      <td>149</td>\n",
       "      <td>Product D</td>\n",
       "      <td>Current</td>\n",
       "      <td>Won</td>\n",
       "      <td>3485.48</td>\n",
       "      <td>52</td>\n",
       "    </tr>\n",
       "    <tr>\n",
       "      <th>77</th>\n",
       "      <td>78</td>\n",
       "      <td>Product B</td>\n",
       "      <td>Current</td>\n",
       "      <td>Won</td>\n",
       "      <td>6252.30</td>\n",
       "      <td>27</td>\n",
       "    </tr>\n",
       "    <tr>\n",
       "      <th>104</th>\n",
       "      <td>105</td>\n",
       "      <td>Product D</td>\n",
       "      <td>Current</td>\n",
       "      <td>Won</td>\n",
       "      <td>4110.98</td>\n",
       "      <td>39</td>\n",
       "    </tr>\n",
       "    <tr>\n",
       "      <th>166</th>\n",
       "      <td>167</td>\n",
       "      <td>Product C</td>\n",
       "      <td>New</td>\n",
       "      <td>Lost</td>\n",
       "      <td>3779.86</td>\n",
       "      <td>11</td>\n",
       "    </tr>\n",
       "  </tbody>\n",
       "</table>\n",
       "</div>"
      ],
      "text/plain": [
       "     Unnamed: 0    product   client status   amount  num_users\n",
       "127         128  Product B  Current    Won  2070.25          7\n",
       "148         149  Product D  Current    Won  3485.48         52\n",
       "77           78  Product B  Current    Won  6252.30         27\n",
       "104         105  Product D  Current    Won  4110.98         39\n",
       "166         167  Product C      New   Lost  3779.86         11"
      ]
     },
     "execution_count": 44,
     "metadata": {},
     "output_type": "execute_result"
    }
   ],
   "source": [
    "# Sample 5 deals without replacement\n",
    "np.random.seed(24) # setting seed so that if sample below is again retrieved, it will give same results\n",
    "amir_deals.sample(5, replace = False)"
   ]
  },
  {
   "cell_type": "code",
   "execution_count": 45,
   "metadata": {},
   "outputs": [
    {
     "data": {
      "text/html": [
       "<div>\n",
       "<style scoped>\n",
       "    .dataframe tbody tr th:only-of-type {\n",
       "        vertical-align: middle;\n",
       "    }\n",
       "\n",
       "    .dataframe tbody tr th {\n",
       "        vertical-align: top;\n",
       "    }\n",
       "\n",
       "    .dataframe thead th {\n",
       "        text-align: right;\n",
       "    }\n",
       "</style>\n",
       "<table border=\"1\" class=\"dataframe\">\n",
       "  <thead>\n",
       "    <tr style=\"text-align: right;\">\n",
       "      <th></th>\n",
       "      <th>Unnamed: 0</th>\n",
       "      <th>product</th>\n",
       "      <th>client</th>\n",
       "      <th>status</th>\n",
       "      <th>amount</th>\n",
       "      <th>num_users</th>\n",
       "    </tr>\n",
       "  </thead>\n",
       "  <tbody>\n",
       "    <tr>\n",
       "      <th>127</th>\n",
       "      <td>128</td>\n",
       "      <td>Product B</td>\n",
       "      <td>Current</td>\n",
       "      <td>Won</td>\n",
       "      <td>2070.25</td>\n",
       "      <td>7</td>\n",
       "    </tr>\n",
       "    <tr>\n",
       "      <th>148</th>\n",
       "      <td>149</td>\n",
       "      <td>Product D</td>\n",
       "      <td>Current</td>\n",
       "      <td>Won</td>\n",
       "      <td>3485.48</td>\n",
       "      <td>52</td>\n",
       "    </tr>\n",
       "    <tr>\n",
       "      <th>77</th>\n",
       "      <td>78</td>\n",
       "      <td>Product B</td>\n",
       "      <td>Current</td>\n",
       "      <td>Won</td>\n",
       "      <td>6252.30</td>\n",
       "      <td>27</td>\n",
       "    </tr>\n",
       "    <tr>\n",
       "      <th>104</th>\n",
       "      <td>105</td>\n",
       "      <td>Product D</td>\n",
       "      <td>Current</td>\n",
       "      <td>Won</td>\n",
       "      <td>4110.98</td>\n",
       "      <td>39</td>\n",
       "    </tr>\n",
       "    <tr>\n",
       "      <th>166</th>\n",
       "      <td>167</td>\n",
       "      <td>Product C</td>\n",
       "      <td>New</td>\n",
       "      <td>Lost</td>\n",
       "      <td>3779.86</td>\n",
       "      <td>11</td>\n",
       "    </tr>\n",
       "  </tbody>\n",
       "</table>\n",
       "</div>"
      ],
      "text/plain": [
       "     Unnamed: 0    product   client status   amount  num_users\n",
       "127         128  Product B  Current    Won  2070.25          7\n",
       "148         149  Product D  Current    Won  3485.48         52\n",
       "77           78  Product B  Current    Won  6252.30         27\n",
       "104         105  Product D  Current    Won  4110.98         39\n",
       "166         167  Product C      New   Lost  3779.86         11"
      ]
     },
     "execution_count": 45,
     "metadata": {},
     "output_type": "execute_result"
    }
   ],
   "source": [
    "np.random.seed(24) # after setting seed, if the sample function is called output will be same\n",
    "amir_deals.sample(5, replace = False)"
   ]
  },
  {
   "cell_type": "code",
   "execution_count": 46,
   "metadata": {},
   "outputs": [
    {
     "data": {
      "text/html": [
       "<div>\n",
       "<style scoped>\n",
       "    .dataframe tbody tr th:only-of-type {\n",
       "        vertical-align: middle;\n",
       "    }\n",
       "\n",
       "    .dataframe tbody tr th {\n",
       "        vertical-align: top;\n",
       "    }\n",
       "\n",
       "    .dataframe thead th {\n",
       "        text-align: right;\n",
       "    }\n",
       "</style>\n",
       "<table border=\"1\" class=\"dataframe\">\n",
       "  <thead>\n",
       "    <tr style=\"text-align: right;\">\n",
       "      <th></th>\n",
       "      <th>Unnamed: 0</th>\n",
       "      <th>product</th>\n",
       "      <th>client</th>\n",
       "      <th>status</th>\n",
       "      <th>amount</th>\n",
       "      <th>num_users</th>\n",
       "    </tr>\n",
       "  </thead>\n",
       "  <tbody>\n",
       "    <tr>\n",
       "      <th>133</th>\n",
       "      <td>134</td>\n",
       "      <td>Product D</td>\n",
       "      <td>Current</td>\n",
       "      <td>Won</td>\n",
       "      <td>5992.86</td>\n",
       "      <td>98</td>\n",
       "    </tr>\n",
       "    <tr>\n",
       "      <th>101</th>\n",
       "      <td>102</td>\n",
       "      <td>Product H</td>\n",
       "      <td>Current</td>\n",
       "      <td>Won</td>\n",
       "      <td>5116.34</td>\n",
       "      <td>63</td>\n",
       "    </tr>\n",
       "    <tr>\n",
       "      <th>110</th>\n",
       "      <td>111</td>\n",
       "      <td>Product B</td>\n",
       "      <td>Current</td>\n",
       "      <td>Won</td>\n",
       "      <td>696.88</td>\n",
       "      <td>44</td>\n",
       "    </tr>\n",
       "    <tr>\n",
       "      <th>49</th>\n",
       "      <td>50</td>\n",
       "      <td>Product B</td>\n",
       "      <td>Current</td>\n",
       "      <td>Won</td>\n",
       "      <td>3488.36</td>\n",
       "      <td>79</td>\n",
       "    </tr>\n",
       "    <tr>\n",
       "      <th>56</th>\n",
       "      <td>57</td>\n",
       "      <td>Product D</td>\n",
       "      <td>Current</td>\n",
       "      <td>Won</td>\n",
       "      <td>6820.84</td>\n",
       "      <td>42</td>\n",
       "    </tr>\n",
       "  </tbody>\n",
       "</table>\n",
       "</div>"
      ],
      "text/plain": [
       "     Unnamed: 0    product   client status   amount  num_users\n",
       "133         134  Product D  Current    Won  5992.86         98\n",
       "101         102  Product H  Current    Won  5116.34         63\n",
       "110         111  Product B  Current    Won   696.88         44\n",
       "49           50  Product B  Current    Won  3488.36         79\n",
       "56           57  Product D  Current    Won  6820.84         42"
      ]
     },
     "execution_count": 46,
     "metadata": {},
     "output_type": "execute_result"
    }
   ],
   "source": [
    "# Sample 5 deals with replacement\n",
    "amir_deals.sample(5, replace = True)"
   ]
  },
  {
   "cell_type": "markdown",
   "metadata": {},
   "source": [
    "## Uniform Distribution"
   ]
  },
  {
   "cell_type": "markdown",
   "metadata": {},
   "source": [
    "\n",
    "<b>Uniform distribution</b> is a probability distribution in which all outcomes are equally likely. This means that the probability of any particular outcome is the same as the probability of any other outcome.\n",
    "\n",
    "There are two types of uniform distributions: continuous and discrete.\n",
    "\n",
    "1. In <b>continuous uniform distribution</b>, the possible outcomes are continuous, meaning that they can take on any value within a certain range.\n",
    "\n",
    "2. In <b>discrete uniform distribution</b>, the possible outcomes are discrete, meaning that they can only take on a finite number of values.\n",
    "\n",
    "Here are some examples of uniform distributions:\n",
    "\n",
    "1. Rolling a die. The probability of rolling any number from 1 to 6 is equal. This is an example of a continuous uniform distribution.\n",
    "1. Tossing a coin. The probability of getting heads or tails is equal. This is an example of a discrete uniform distribution.\n",
    "1. Drawing a card from a deck. The probability of drawing any card from the deck is equal. This is an example of a continuous uniform distribution.\n",
    "1. Choosing a random number between 0 and 1. The probability of choosing any number between 0 and 1 is equal. This is an example of a continuous uniform distribution."
   ]
  },
  {
   "cell_type": "markdown",
   "metadata": {},
   "source": [
    "The sales software used at your company is set to automatically back itself up, but no one knows exactly what time the back-ups happen. It is known, however, that back-ups happen exactly every 30 minutes. Amir comes back from sales meetings at random times to update the data on the client he just met with. He wants to know how long he'll have to wait for his newly-entered data to get backed up."
   ]
  },
  {
   "cell_type": "code",
   "execution_count": 47,
   "metadata": {},
   "outputs": [
    {
     "name": "stdout",
     "output_type": "stream",
     "text": [
      "0.16666666666666666\n"
     ]
    }
   ],
   "source": [
    "min_time = 0\n",
    "max_time = 30\n",
    "\n",
    "# Calculate probability of waiting less than 5 mins\n",
    "prob_less_than_5 = uniform.cdf(5, min_time, max_time)\n",
    "print(prob_less_than_5)"
   ]
  },
  {
   "cell_type": "code",
   "execution_count": 48,
   "metadata": {},
   "outputs": [
    {
     "name": "stdout",
     "output_type": "stream",
     "text": [
      "0.8333333333333334\n"
     ]
    }
   ],
   "source": [
    "# Calculate probability of waiting more than 5 mins\n",
    "prob_greater_than_5 = 1 - uniform.cdf(5, min_time, max_time)\n",
    "print(prob_greater_than_5)"
   ]
  },
  {
   "cell_type": "code",
   "execution_count": 49,
   "metadata": {},
   "outputs": [
    {
     "name": "stdout",
     "output_type": "stream",
     "text": [
      "0.3333333333333333\n"
     ]
    }
   ],
   "source": [
    "# Calculate probability of waiting 10-20 mins\n",
    "prob_between_10_and_20 = uniform.cdf(20, min_time, max_time) - uniform.cdf(10, min_time, max_time)\n",
    "print(prob_between_10_and_20)"
   ]
  },
  {
   "cell_type": "markdown",
   "metadata": {},
   "source": [
    "#### Simulating wait times"
   ]
  },
  {
   "cell_type": "code",
   "execution_count": 50,
   "metadata": {},
   "outputs": [
    {
     "name": "stdout",
     "output_type": "stream",
     "text": [
      "[1.75373261e+01 2.71316477e+01 5.81790338e-01 1.55829141e+01\n",
      " 7.87247851e+00 1.97407454e+01 1.95508372e+01 1.54978067e+01\n",
      " 1.01092394e+01 1.84420030e+01 2.49413649e+01 4.79309626e+00\n",
      " 8.47208009e+00 5.44361501e+00 2.20829437e+01 2.31574772e+01\n",
      " 2.08429962e+01 1.05714114e+01 2.40121561e+01 9.28704325e+00\n",
      " 2.04256823e+00 1.87270672e+01 4.64697154e+00 1.02954454e+01\n",
      " 1.80831020e+01 2.60343045e+01 2.78236924e+01 2.12401434e+01\n",
      " 2.76736953e+01 2.86192490e+01 2.57458966e+01 2.88547712e+01\n",
      " 2.16294810e+01 6.57755771e+00 2.36467739e+00 1.21750566e+01\n",
      " 2.35862737e+01 1.84042611e+01 2.16468053e+01 3.91104506e+00\n",
      " 2.96133933e+01 8.89948926e+00 6.98799160e+00 4.82395554e+00\n",
      " 2.05445006e+01 2.97970714e+01 1.71081228e+00 1.50823281e+01\n",
      " 9.53534698e+00 2.31547495e+01 4.38293596e+00 2.33061210e+01\n",
      " 1.07252149e+01 9.20592432e-01 2.60942483e+01 2.34553695e+01\n",
      " 5.04155388e+00 2.84702363e+01 2.85820269e+01 1.72178961e+00\n",
      " 8.90894493e+00 1.95660184e+01 2.76137035e+01 9.31256957e-01\n",
      " 1.86640971e+01 1.74487813e+00 2.29004787e+01 8.60484966e+00\n",
      " 1.37535905e+01 2.74557093e+01 3.91349657e-01 1.51080395e+01\n",
      " 2.26133137e+00 9.82959104e+00 1.02335193e+00 2.79616446e+00\n",
      " 2.01648177e+01 2.98528892e+01 2.37645806e+01 2.65433479e+00\n",
      " 1.54703554e+01 2.69645930e+01 9.10052882e+00 2.42307708e+01\n",
      " 1.15428233e+01 9.56418760e+00 1.11806164e+01 1.81418963e+01\n",
      " 9.26776183e+00 2.85348802e+01 1.13059093e+01 1.32029850e+01\n",
      " 8.76819247e+00 1.73726206e+01 7.86128417e+00 2.06984955e+01\n",
      " 1.94608463e+01 2.62624228e+01 1.79538973e+01 2.61507966e+01\n",
      " 2.79109295e+01 5.38640270e+00 1.09829316e+01 7.43298834e+00\n",
      " 9.12848278e+00 5.42893763e+00 2.56836775e+01 3.77768047e-02\n",
      " 2.93061709e+01 1.67125449e+01 8.48014274e+00 7.13510647e+00\n",
      " 1.53029412e+01 1.80002917e+01 4.99529535e+00 1.24712214e+01\n",
      " 5.84002174e+00 1.91109963e+01 1.35130203e+01 1.00618991e+01\n",
      " 8.57794499e+00 2.80473366e+00 3.61584840e+00 8.97910182e+00\n",
      " 5.36795888e+00 1.13052494e+01 2.08697212e+01 1.17564321e+01\n",
      " 1.24724037e+01 1.95861431e+01 2.86184979e+01 2.92168889e+01\n",
      " 1.28325196e+01 3.39253432e+00 2.79907466e+01 6.17678670e+00\n",
      " 1.00249831e+01 2.91075780e+01 1.39585465e+01 1.05516974e+01\n",
      " 2.76870587e+01 5.87989103e+00 1.35680354e+01 1.34586853e+00\n",
      " 1.91290014e+01 2.55747785e+01 2.46658333e+01 1.31007382e+01\n",
      " 2.14245938e+01 3.90330129e+00 1.95405233e+01 2.79939406e+01\n",
      " 1.48114111e+01 2.44658753e+01 1.50691158e+00 1.54807078e+00\n",
      " 2.86050144e+00 2.07900636e+00 1.53481731e+01 2.15106010e+00\n",
      " 1.18924081e+01 1.38797678e+00 5.75624940e+00 2.08285875e+01\n",
      " 1.89304516e+01 2.52909627e+01 3.20661176e+00 2.71109840e+01\n",
      " 9.92394406e+00 2.78127256e+01 2.07874419e+01 3.92784883e+00\n",
      " 1.48708388e+01 2.84759965e+00 2.29666273e+01 5.21047473e+00\n",
      " 6.54825348e+00 1.49470817e+01 1.47390511e+00 1.78661380e+01\n",
      " 2.48187338e+01 1.77822650e+01 2.97526314e+01 2.05872887e+01\n",
      " 6.35559777e+00 7.97423334e+00 1.01634992e+00 2.71819446e+00\n",
      " 2.78851142e+01 1.95150630e+01 9.04873427e+00 2.44573317e+00\n",
      " 2.71386243e+00 2.46854964e+01 1.31712811e+01 9.33655733e+00\n",
      " 2.97326744e+01 1.12351595e+01 1.49136403e+01 3.37436110e+00\n",
      " 9.98412195e-01 1.88095225e+01 1.02064820e+01 8.07394445e+00\n",
      " 5.83256780e+00 1.49835432e+01 2.97529954e+01 1.98703155e+01\n",
      " 2.70201615e+01 2.91897964e+01 5.82570328e+00 4.60895658e-01\n",
      " 1.35410155e+01 2.74007762e+01 2.58550746e+01 2.79594724e+01\n",
      " 9.95038530e-01 2.74877242e+01 3.19623244e+00 5.08605159e+00\n",
      " 2.85282636e+01 2.48428055e+01 2.60587347e+01 2.75154449e+01\n",
      " 1.41359329e+01 1.45028085e+01 7.14183298e-01 2.23385999e+01\n",
      " 1.32200733e+01 1.86064146e+01 1.33691794e+01 2.10189657e+01\n",
      " 2.99625619e+01 2.45897609e+01 2.02513454e+01 1.01626677e+01\n",
      " 2.04408091e+01 1.41508109e+01 2.42182355e+00 2.24985987e+01\n",
      " 2.00909130e+01 6.82990835e-01 1.93079717e+00 2.41696718e+01\n",
      " 1.84757825e+01 1.50623062e+01 1.47757458e+01 7.07097686e+00\n",
      " 2.10181028e+01 2.60435465e+01 1.98399550e+01 1.77249281e+01\n",
      " 3.88815013e+00 2.24929845e+01 1.89022184e+01 2.39043474e+01\n",
      " 1.07809238e+01 6.90270570e+00 1.55583846e+01 6.25115288e-01\n",
      " 2.81713293e+01 7.43991009e+00 3.59591364e+00 9.10393023e+00\n",
      " 1.97935644e+00 4.10994685e+00 2.66489423e+01 3.47405745e+00\n",
      " 2.59544234e+01 3.87291279e+00 2.73377789e+01 1.09889833e+01\n",
      " 1.53335447e+01 2.18066552e+01 1.39327630e+00 1.56829871e+01\n",
      " 2.21454249e+01 1.49200376e+01 1.87458274e+01 8.47321218e+00\n",
      " 2.55671329e+01 1.71740073e+01 1.78613571e+01 2.24997115e+01\n",
      " 6.88773177e+00 2.36372074e+00 1.38169402e+01 7.84314039e+00\n",
      " 2.14749646e+01 9.28168855e+00 2.75890757e+01 1.56690632e+01\n",
      " 1.43172431e+01 2.00692946e+01 2.74020505e+01 1.55597109e+01\n",
      " 2.49183901e+01 3.94527922e+00 9.39543938e-02 1.42908868e+01\n",
      " 2.26262764e+01 1.64010843e+01 1.81844155e+01 2.83398517e+01\n",
      " 2.59651954e+01 3.74263339e+00 2.65846457e+01 2.16884960e+01\n",
      " 2.39024404e+01 1.22116955e+00 7.76609685e+00 2.67973831e+01\n",
      " 2.81718051e+01 1.70389005e+01 2.21014640e+01 2.53449932e+01\n",
      " 2.36880362e+01 2.49643882e+01 1.53589762e+01 1.28134431e+01\n",
      " 1.61850201e+00 4.92721086e+00 1.26530051e+01 1.87273395e+01\n",
      " 4.95744810e+00 2.91840032e+01 5.04402704e+00 1.35626645e+01\n",
      " 1.44255688e+01 2.35010245e+00 1.36391309e+01 5.58604189e-01\n",
      " 2.26113975e+01 2.36372216e+01 1.64740754e+00 6.36339083e+00\n",
      " 1.56296242e+01 4.98226839e+00 2.63295761e+01 6.28389881e+00\n",
      " 9.76597452e+00 1.90173851e+01 1.84237140e+01 2.73317220e+01\n",
      " 2.92720308e+01 8.73147647e+00 2.81575989e+01 2.30508502e+01\n",
      " 2.10901443e+01 4.19141073e+00 2.30189478e+01 5.38227610e+00\n",
      " 1.31668933e+01 1.99638129e+01 2.94986528e+01 9.53797264e+00\n",
      " 2.98691610e+01 4.55385149e+00 4.90947789e+00 2.66787019e+01\n",
      " 1.48567696e+01 2.41681711e+01 1.86854553e+01 2.29855670e+01\n",
      " 2.57427741e+01 2.43807936e+01 1.92934541e+01 1.84267925e+01\n",
      " 1.02221532e+01 1.69696229e+01 7.22341498e+00 2.19046751e+01\n",
      " 1.21145555e+01 1.55211907e+01 1.93742717e+01 1.70919932e+01\n",
      " 2.43886022e+01 1.23798573e+01 2.27575650e+01 5.32153080e+00\n",
      " 1.64069651e+00 1.58691682e+01 1.82706311e+00 2.59851804e+01\n",
      " 1.11234313e+01 4.62024601e+00 1.48872800e+01 4.84066024e+00\n",
      " 1.80981282e+00 1.05138646e+01 1.70109006e+01 1.40524182e+01\n",
      " 7.55501363e+00 1.29588366e+01 6.62961823e+00 2.21277465e+00\n",
      " 1.78094970e+01 1.30430710e+01 9.88855382e+00 5.99667955e+00\n",
      " 3.99306322e+00 2.55052128e+01 4.55134488e+00 2.70877185e+01\n",
      " 1.72591327e+01 8.81934533e+00 2.24817311e+01 1.95588697e+01\n",
      " 2.05005160e+01 2.75443706e+01 3.82390554e+00 2.71105896e+01\n",
      " 7.72893170e+00 1.05157054e+01 8.53437406e+00 7.54977094e+00\n",
      " 6.73824592e+00 1.49751726e+01 1.59963651e+01 5.93622677e+00\n",
      " 2.59449791e+01 2.70512808e+01 1.10722287e+01 5.55993035e+00\n",
      " 8.24318848e+00 1.63501480e+01 1.83200748e+00 1.88718791e+01\n",
      " 1.28209314e+00 1.97711372e+01 7.58566674e+00 1.27726387e+00\n",
      " 2.42424949e+01 1.78051428e+01 2.38716190e+01 1.59781921e+01\n",
      " 1.38606462e+01 7.81258295e+00 2.18206835e+01 5.10819687e+00\n",
      " 4.67853884e+00 1.71825012e+00 2.65624998e+00 2.17023980e+01\n",
      " 1.00699070e+01 1.98566664e+00 8.28168997e+00 1.19666282e+01\n",
      " 1.35662704e+01 2.15550663e+01 2.06717725e+01 2.92139411e+01\n",
      " 1.62300730e+00 2.89426224e+01 5.37405640e+00 2.30075286e+01\n",
      " 7.70049430e+00 1.64084852e+01 1.82715524e+01 6.16911960e+00\n",
      " 2.32288789e+01 1.75330872e+01 1.09994603e+00 7.31635263e+00\n",
      " 1.68125495e+01 2.88613530e+01 1.23390803e+01 4.79356991e+00\n",
      " 7.78876814e+00 2.68143390e+01 1.10845762e+01 5.71338737e+00\n",
      " 2.90092767e+00 1.31910767e+01 1.93631181e+01 1.33844367e+01\n",
      " 1.89453373e+01 1.08348330e+01 2.89459435e+01 2.76680751e+01\n",
      " 1.76417456e+01 2.56294463e+01 2.74447669e+01 2.39844923e+01\n",
      " 1.69598540e+01 5.74025350e+00 1.82152029e+01 9.89515425e-01\n",
      " 1.75848988e+01 2.51426527e+01 9.73254440e-01 2.53025106e+01\n",
      " 1.42900386e+01 1.37434084e+00 1.81438363e+01 1.38181158e+01\n",
      " 1.69841759e+01 1.70649646e+01 1.78311974e+01 1.53142098e+01\n",
      " 1.61025727e+00 2.26686794e+01 2.19069086e+01 1.36007247e+01\n",
      " 2.04577447e+01 9.69747989e+00 1.50104686e+01 5.96823671e+00\n",
      " 6.82677537e+00 6.39364703e+00 9.76789131e+00 4.75147891e+00\n",
      " 3.62093870e+00 1.72600841e+01 1.95068009e+01 1.04767988e+01\n",
      " 3.43694640e+00 2.75997038e+01 4.43785014e+00 2.31444283e+01\n",
      " 9.09922811e+00 7.16480603e+00 1.89680445e+01 3.86492691e+00\n",
      " 1.61781275e+01 1.34058583e+01 2.41274171e+01 2.51487726e+01\n",
      " 1.14638003e+01 1.44033223e+01 2.01157381e+01 2.35711626e+01\n",
      " 1.15695251e+01 2.83784196e+01 1.74346075e+01 1.50931457e+01\n",
      " 2.42751196e+01 2.62460816e+01 2.09452476e+01 2.53276547e+01\n",
      " 1.85425848e+01 1.61962756e+01 1.02054678e+01 1.25373227e+01\n",
      " 9.94057096e+00 6.81180679e+00 2.51987705e+01 9.19233126e-01\n",
      " 9.84481492e+00 2.74937920e+01 2.14400465e+00 1.62538098e+01\n",
      " 7.10459452e+00 1.62257022e+01 5.55952989e+00 2.14647269e+01\n",
      " 2.02072646e+01 2.29051212e+01 7.42857165e-01 8.45568531e+00\n",
      " 1.30316181e+01 1.27050779e+01 1.15204638e+01 1.67606460e+01\n",
      " 1.52352625e+01 7.36722866e+00 1.81236638e+01 1.15319262e+01\n",
      " 2.14124240e+01 5.52729746e+00 9.11573696e+00 2.54297371e+01\n",
      " 2.20418096e+01 2.31088337e+01 1.59400049e+01 1.89212268e+01\n",
      " 1.94281639e+01 1.11221311e+01 1.60220631e+01 1.51572210e+01\n",
      " 9.76373229e+00 2.80907014e+01 2.17398959e+01 2.59419558e+01\n",
      " 1.73205048e+01 6.74721928e+00 2.68278789e+01 2.74706535e+01\n",
      " 4.50545659e+00 1.36494641e+01 4.19304720e+00 1.69973805e+01\n",
      " 1.37411045e+01 3.60272736e-01 1.40690550e+01 6.76637132e-01\n",
      " 2.14079046e+01 2.74640287e+00 2.40210427e+00 2.39222382e+01\n",
      " 3.97143874e+00 1.85058877e+01 4.19143519e+00 2.27659683e+01\n",
      " 2.27375144e+01 9.33389956e-01 2.23164341e+01 1.62486444e+01\n",
      " 2.33243635e+01 1.81681869e+01 2.29131705e+01 3.03360284e-01\n",
      " 1.44174596e+01 2.49890151e+01 2.70862277e+01 2.48646526e+01\n",
      " 1.81918323e+01 1.56444824e+01 1.29885452e+01 2.14186662e+01\n",
      " 8.93718569e+00 1.35334198e+01 6.36834297e+00 2.57296930e+01\n",
      " 2.55989483e+01 7.13151603e+00 1.27862248e+01 1.51450910e+01\n",
      " 2.43806867e+00 1.85560913e+01 1.00794554e+01 1.92069808e+01\n",
      " 2.42733897e+01 6.04234079e-01 1.52717632e+01 9.03205360e+00\n",
      " 2.33094273e+01 1.27950414e+00 2.51151480e+01 1.76242197e+01\n",
      " 1.65171379e+01 2.61762868e+01 2.90353532e+01 1.47593283e+01\n",
      " 2.71865187e+01 3.82650585e+00 1.33168489e+01 2.91126046e+01\n",
      " 4.46373474e+00 3.53318763e+00 5.39163785e+00 9.09168529e+00\n",
      " 2.43536359e+01 8.66980585e-02 2.62576543e+01 2.27818602e+00\n",
      " 8.20285112e-02 1.91339474e+00 8.93306770e+00 2.49321453e+01\n",
      " 3.33535243e+00 3.93709511e+00 2.47230197e+01 8.58513422e+00\n",
      " 1.59757049e+01 7.18247310e+00 2.76134019e+01 9.51960504e+00\n",
      " 8.71111252e+00 2.71643154e+01 1.64022280e+01 2.53942934e+01\n",
      " 8.31576012e+00 1.39586388e+01 4.43679114e+00 1.80553229e+01\n",
      " 1.91371924e+01 1.29452779e+01 6.90671120e+00 8.82747223e-03\n",
      " 2.92928736e+01 2.29663163e+01 1.06845894e+01 2.22578144e+01\n",
      " 2.27068104e+01 2.21569309e+01 1.56758061e+01 1.28083074e+01\n",
      " 2.79556065e+01 5.72074552e+00 1.10011830e+01 4.52505118e+00\n",
      " 2.61191461e+01 6.38332549e+00 1.74456323e+01 1.23088993e+01\n",
      " 2.21660689e+01 1.20897949e+01 1.87968834e+01 1.13697412e+01\n",
      " 2.74037865e+00 1.82278107e+01 2.28660060e+01 1.41462692e+01\n",
      " 1.30864727e+01 2.51999479e+01 2.19245616e+01 1.33549911e+01\n",
      " 2.46274441e+01 1.25188981e+01 8.53040708e+00 2.36010938e+01\n",
      " 2.40063353e+01 2.25951959e+01 1.14773683e+01 2.31042787e+01\n",
      " 1.83798744e+01 2.94893334e+01 1.84608558e+01 1.52135545e+01\n",
      " 1.14824713e+01 8.17684962e+00 2.49501882e+00 8.22855989e+00\n",
      " 2.47899885e+01 5.43835272e+00 2.73556580e+01 1.24467862e+01\n",
      " 2.82489927e+01 1.78043194e+01 1.79890015e+00 1.23062248e+01\n",
      " 1.40364820e+01 1.18732030e+01 1.02334818e+01 1.08997851e+01\n",
      " 2.00962836e+01 1.42656357e+01 3.01594227e+00 1.34328016e+00\n",
      " 1.45669400e+01 8.20435871e-01 1.68980945e+01 2.41933032e+01\n",
      " 1.90976305e+01 1.17019746e+01 1.51049228e+00 2.00644514e+01\n",
      " 4.61721348e+00 1.71429924e+01 5.90760192e+00 2.72752455e+01\n",
      " 2.15840180e+01 1.19889541e+01 1.38572039e+00 5.47497777e+00\n",
      " 2.55525504e+01 2.16339838e+01 2.34453578e+01 2.42000578e+01\n",
      " 8.71669310e+00 2.05664357e+01 1.95616368e+01 1.42034434e+01\n",
      " 3.22664708e+00 1.10999812e+01 1.04645474e+01 2.98868712e+01\n",
      " 2.75643076e+01 1.54387943e+01 2.87262017e+00 2.68532720e+01\n",
      " 2.00093084e+01 1.23953555e+01 2.90103304e+01 1.99702554e+01\n",
      " 8.35218241e+00 1.37862747e+01 1.34372731e+01 4.18729735e+00\n",
      " 2.19393101e+01 7.29245912e+00 2.47133530e+01 2.17915825e+01\n",
      " 3.52223730e+00 1.56609084e+01 1.05010097e+01 2.75462707e+01\n",
      " 2.98554569e+01 1.47047348e+01 3.14619832e+00 2.12013206e+01\n",
      " 9.10184097e+00 1.31852895e+01 1.33449948e+00 2.24803657e+01\n",
      " 2.68919300e+01 2.66248100e+01 3.92915888e+00 2.88941269e+01\n",
      " 2.11725053e+01 1.76757896e+01 2.18623920e+01 1.54583345e+01\n",
      " 1.70450252e+01 1.85207978e+01 1.01865810e+01 2.70001900e+01\n",
      " 8.58196528e+00 1.29513815e+01 2.61998425e+01 2.88397027e+01\n",
      " 2.29335998e+01 1.65168734e+01 1.49730167e+01 4.76286658e+00\n",
      " 3.44799820e-01 1.35314037e+01 1.54702743e+01 2.31147189e+01\n",
      " 2.45305787e+01 1.59804929e+01 4.69717911e+00 2.52421409e+01\n",
      " 1.17765904e+01 1.06087722e+01 2.45976291e+00 8.82234466e+00\n",
      " 6.55460947e+00 2.67741129e+01 2.64242135e+01 2.14092688e+01\n",
      " 1.37457390e+01 2.43130499e+01 1.65274699e+01 1.18038150e+01\n",
      " 2.91294364e+01 4.84654521e+00 2.73107770e+00 6.92873764e+00\n",
      " 1.50316660e+01 2.74039692e+00 2.87932719e+01 2.95053127e+01\n",
      " 2.86601693e+01 1.46002081e+01 1.09723220e+01 2.80644101e+01\n",
      " 4.69712882e+00 1.33867688e+01 1.35798587e+01 2.28317437e+01\n",
      " 2.00632982e+01 2.44179348e+01 2.58484675e+01 1.33963583e+01\n",
      " 1.15723957e+01 2.06163013e+01 2.05802265e+01 2.52699097e+01\n",
      " 2.53740632e+01 2.38213444e+01 6.13299413e+00 7.15017504e+00\n",
      " 2.67430818e+01 9.75342730e+00 6.92153626e+00 2.97899274e+01\n",
      " 2.05608768e+01 1.80797793e+00 2.81626172e+01 8.50838008e+00\n",
      " 1.97869345e+00 1.90279768e+01 2.69753702e+01 2.45410250e+01\n",
      " 5.41531987e+00 6.50829885e+00 1.48381481e+01 2.89928300e+01\n",
      " 2.89668657e+01 2.73538266e+01 7.71261590e+00 1.12433381e+01\n",
      " 1.50339590e+00 2.37707396e+00 1.12980957e+01 8.72763368e+00\n",
      " 1.00673399e+01 2.52573089e+01 1.71648244e+01 1.41030500e+01\n",
      " 6.73311972e+00 1.57811535e+01 2.34593473e+01 2.76393876e+01\n",
      " 1.82107545e+01 1.10689527e+01 6.08361485e+00 1.40042686e+01\n",
      " 6.58769440e+00 3.00497151e+00 2.92198330e+01 2.35772680e+01\n",
      " 6.18762945e-01 9.02667210e+00 1.19395309e+01 2.79682160e+01\n",
      " 1.47229357e+01 1.02423136e+01 1.66295806e+01 1.11197673e+01\n",
      " 8.68180716e+00 1.73869494e+01 1.36317787e+01 2.80945061e+01\n",
      " 1.31413163e+01 1.95040369e+01 1.74718762e+01 6.41501985e+00\n",
      " 2.99212683e+01 2.97521338e+01 9.70394564e+00 2.32490338e+00\n",
      " 1.60359734e+01 2.86830849e+01 1.43411811e+01 2.44935399e+01\n",
      " 1.22491216e+01 2.59862247e+01 1.24254995e+01 1.82865583e+01\n",
      " 2.32471880e+01 5.81923215e+00 1.74659329e+01 8.48697261e+00\n",
      " 4.23717160e+00 1.60353717e+01 2.62225765e+01 1.30792658e+01\n",
      " 8.51057684e+00 1.99531678e+01 2.47653669e+01 3.12887653e+00\n",
      " 2.11070918e+00 2.81057452e+01 2.02363806e+01 2.71769003e+01\n",
      " 9.17509413e+00 4.19977164e+00 4.12695848e-01 2.12663495e+01\n",
      " 1.58766465e+01 1.93718144e+01 7.83293891e-01 2.60993214e+01\n",
      " 1.22429176e+01 1.36560839e+01 1.62408667e+01 1.91773678e+01\n",
      " 1.79581312e+01 2.42225196e+01 1.87968090e+01 5.13939663e+00\n",
      " 1.78880164e+01 8.76876657e+00 8.13727085e+00 2.37436202e+01\n",
      " 1.75702033e+01 2.73166708e+01 2.93485212e+01 4.38161036e+00\n",
      " 2.02261525e+01 1.04739952e+01 5.08377250e+00 3.97707146e+00\n",
      " 6.37533414e-01 7.78696727e+00 2.70032432e+01 2.55744684e+01\n",
      " 9.81137222e+00 1.84192121e+01 2.36718426e+00 1.08078567e+01\n",
      " 1.57943028e+01 1.57382143e+01 2.88993708e+01 1.90691604e+01\n",
      " 6.19080979e+00 1.51472363e+00 1.72162179e+01 1.56578768e+01\n",
      " 1.11707499e+01 2.66357286e+01 4.22423638e+00 1.59877924e+01\n",
      " 2.23458025e+01 5.42665906e-01 6.15814486e+00 6.89578163e+00]\n"
     ]
    }
   ],
   "source": [
    "# Generate 1000 wait times between 0 and 30 mins\n",
    "wait_times = uniform.rvs(0,30,size=1000)\n",
    "print(wait_times)"
   ]
  },
  {
   "cell_type": "code",
   "execution_count": 51,
   "metadata": {},
   "outputs": [
    {
     "data": {
      "image/png": "[encoded data removed]",
      "text/plain": [
       "<Figure size 640x480 with 1 Axes>"
      ]
     },
     "metadata": {},
     "output_type": "display_data"
    }
   ],
   "source": [
    "plt.hist(wait_times)\n",
    "plt.show()"
   ]
  },
  {
   "cell_type": "markdown",
   "metadata": {},
   "source": [
    "## Binomial Distribution"
   ]
  },
  {
   "cell_type": "markdown",
   "metadata": {},
   "source": [
    "A way of calculating the probability of getting a certain number of successes in a series of trials, where each trial has only two possible outcomes.\n",
    "\n",
    "E.g. No. of heads in a sequence of coin flips"
   ]
  },
  {
   "cell_type": "markdown",
   "metadata": {},
   "source": [
    "### Generate Random Values\n",
    "\n",
    "        binom.rvs(no of trials , prob of heads/success, size = no of samples)\n",
    "        binom.rvs(no of coins , prob of heads, size = no of flips)\n",
    "        binom.rvs(n,p,size)"
   ]
  },
  {
   "cell_type": "code",
   "execution_count": 52,
   "metadata": {},
   "outputs": [
    {
     "data": {
      "text/plain": [
       "array([1], dtype=int64)"
      ]
     },
     "execution_count": 52,
     "metadata": {},
     "output_type": "execute_result"
    }
   ],
   "source": [
    "# For now, we have only one coin or trial and we only flipped it once.\n",
    "# Chance for getting heads/success or tails/loss will be same i.e. 50% or 0.5\n",
    "\n",
    "binom.rvs(1, 0.5, size=1)\n",
    "\n",
    "# if it returns 1, then it means head\n",
    "# if 0, then tails"
   ]
  },
  {
   "cell_type": "code",
   "execution_count": 53,
   "metadata": {},
   "outputs": [
    {
     "data": {
      "text/plain": [
       "array([0, 0, 1, 0, 1, 1, 1, 0, 0, 0], dtype=int64)"
      ]
     },
     "execution_count": 53,
     "metadata": {},
     "output_type": "execute_result"
    }
   ],
   "source": [
    "# for 10 flips\n",
    "\n",
    "binom.rvs(1, 0.5, size = 10)"
   ]
  },
  {
   "cell_type": "code",
   "execution_count": 56,
   "metadata": {},
   "outputs": [
    {
     "data": {
      "text/plain": [
       "array([1, 1, 0, 1, 1, 1, 1, 0, 1, 2], dtype=int64)"
      ]
     },
     "execution_count": 56,
     "metadata": {},
     "output_type": "execute_result"
    }
   ],
   "source": [
    "# for 2 coins and 10 flips\n",
    "binom.rvs(2, 0.5, size = 10)"
   ]
  },
  {
   "cell_type": "markdown",
   "metadata": {},
   "source": [
    "[1, 1, 0, 1, 1, 1, 1, 0, 1, 2]\n",
    "\n",
    "The output above explains that:\n",
    "\n",
    "1. At the first flip of both the first and second coin, we get only one head/success.\n",
    "1. The same goes for the second flip.\n",
    "1. At the third flip, we don't get any heads/successes out of both the first and second coin.\n",
    "1. The same pattern continues.\n",
    "1. At the last flip, we get two heads from both the first and second coin."
   ]
  },
  {
   "cell_type": "code",
   "execution_count": 57,
   "metadata": {},
   "outputs": [
    {
     "data": {
      "text/plain": [
       "array([7, 8, 5], dtype=int64)"
      ]
     },
     "execution_count": 57,
     "metadata": {},
     "output_type": "execute_result"
    }
   ],
   "source": [
    "# for 10 coins and 3 flips\n",
    "binom.rvs(10, 0.5, size = 3)"
   ]
  },
  {
   "cell_type": "markdown",
   "metadata": {},
   "source": [
    "[7, 8, 5]\n",
    "\n",
    "1. At first flip, we get 7 heads out of 10 coins.\n",
    "2. At second flip, we get 8 heads out of 10 coins.\n",
    "3. At third flip, we get 5 heads out of 10 coins."
   ]
  },
  {
   "cell_type": "markdown",
   "metadata": {},
   "source": [
    "### Probability Mass Function\n",
    "The PMF gives the probability of a random variable taking on a specific value.\n",
    "\n",
    "        binom.pmf(no of heads, no of trials, prob of heads)\n",
    "        binom.pmf(k,n,p)"
   ]
  },
  {
   "cell_type": "code",
   "execution_count": 66,
   "metadata": {},
   "outputs": [
    {
     "data": {
      "text/plain": [
       "0.11718749999999996"
      ]
     },
     "execution_count": 66,
     "metadata": {},
     "output_type": "execute_result"
    }
   ],
   "source": [
    "# For probability of 7 heads\n",
    "binom.pmf(7, 10, 0.5)\n",
    "\n",
    "# 0.11718749999999996 - If we flip 10 coins, there's about a 12% chance that exactly 7 of them will be heads."
   ]
  },
  {
   "cell_type": "markdown",
   "metadata": {},
   "source": [
    "### Cumulative Distriutive Function  \n",
    "The CDF gives the probability of a random variable being less than or equal to a specific value.\n",
    "\n",
    "        binom.cdf(no of heads, no of trials, prob of heads)\n",
    "        binom.cdf(k,n,p)"
   ]
  },
  {
   "cell_type": "code",
   "execution_count": 70,
   "metadata": {},
   "outputs": [
    {
     "data": {
      "text/plain": [
       "0.9453125"
      ]
     },
     "execution_count": 70,
     "metadata": {},
     "output_type": "execute_result"
    }
   ],
   "source": [
    "# For probability of less than or equal to 7 heads\n",
    "binom.cdf(7, 10, 0.5)\n",
    "\n",
    "# 0.9453125 - The probability of getting 7 or fewer heads out of 10 coins is about 95%."
   ]
  },
  {
   "cell_type": "code",
   "execution_count": 71,
   "metadata": {},
   "outputs": [
    {
     "data": {
      "text/plain": [
       "0.0546875"
      ]
     },
     "execution_count": 71,
     "metadata": {},
     "output_type": "execute_result"
    }
   ],
   "source": [
    "# For probability of greater than 7 heads\n",
    "1 - binom.cdf(7, 10, 0.5)\n",
    "\n",
    "# 0.0546875 - The probability of getting greater than 7 heads out of 10 coins is about 5.4%."
   ]
  },
  {
   "cell_type": "markdown",
   "metadata": {},
   "source": [
    "### Expected Value = n * p"
   ]
  },
  {
   "cell_type": "code",
   "execution_count": 73,
   "metadata": {},
   "outputs": [
    {
     "data": {
      "text/plain": [
       "5.0"
      ]
     },
     "execution_count": 73,
     "metadata": {},
     "output_type": "execute_result"
    }
   ],
   "source": [
    "# expected number of heads for 10 flips\n",
    "10 * 0.5"
   ]
  },
  {
   "cell_type": "markdown",
   "metadata": {},
   "source": [
    "Dataset:"
   ]
  },
  {
   "cell_type": "markdown",
   "metadata": {},
   "source": [
    "Assume that Amir usually works on 3 deals per week, and overall, he wins 30% of deals he works on. Each deal has a binary outcome: it's either lost, or won, so you can model his sales deals with a binomial distribution."
   ]
  },
  {
   "cell_type": "code",
   "execution_count": 83,
   "metadata": {},
   "outputs": [
    {
     "data": {
      "text/plain": [
       "array([1], dtype=int64)"
      ]
     },
     "execution_count": 83,
     "metadata": {},
     "output_type": "execute_result"
    }
   ],
   "source": [
    "# Simulate 1 deal worked on by Amir, who wins 30% of the deals he works on.\n",
    "binom.rvs(1, 0.3, size = 1)"
   ]
  },
  {
   "cell_type": "code",
   "execution_count": 85,
   "metadata": {},
   "outputs": [
    {
     "data": {
      "text/plain": [
       "array([0], dtype=int64)"
      ]
     },
     "execution_count": 85,
     "metadata": {},
     "output_type": "execute_result"
    }
   ],
   "source": [
    "# Simulate 1 week of 3 deals\n",
    "binom.rvs(3, 0.3, size = 1)"
   ]
  },
  {
   "cell_type": "code",
   "execution_count": 86,
   "metadata": {},
   "outputs": [
    {
     "data": {
      "text/plain": [
       "0.027"
      ]
     },
     "execution_count": 86,
     "metadata": {},
     "output_type": "execute_result"
    }
   ],
   "source": [
    "# Probability of closing 3 out of 3 deals\n",
    "prob_3 = binom.pmf(3,3,0.3)\n",
    "prob_3"
   ]
  },
  {
   "cell_type": "code",
   "execution_count": 87,
   "metadata": {},
   "outputs": [
    {
     "name": "stdout",
     "output_type": "stream",
     "text": [
      "0.784\n"
     ]
    }
   ],
   "source": [
    "# Probability of closing <= 1 deal out of 3 deals\n",
    "prob_less_than_or_equal_1 =binom.cdf(1,3,0.3)\n",
    "prob_less_than_or_equal_1"
   ]
  }
 ],
 "metadata": {
  "kernelspec": {
   "display_name": "Python 3",
   "language": "python",
   "name": "python3"
  },
  "language_info": {
   "codemirror_mode": {
    "name": "ipython",
    "version": 3
   },
   "file_extension": ".py",
   "mimetype": "text/x-python",
   "name": "python",
   "nbconvert_exporter": "python",
   "pygments_lexer": "ipython3",
   "version": "3.11.3"
  },
  "orig_nbformat": 4
 },
 "nbformat": 4,
 "nbformat_minor": 2
}
