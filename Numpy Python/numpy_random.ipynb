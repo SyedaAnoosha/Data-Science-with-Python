{
 "cells": [
  {
   "cell_type": "code",
   "execution_count": 21,
   "metadata": {},
   "outputs": [],
   "source": [
    "import numpy as np"
   ]
  },
  {
   "cell_type": "code",
   "execution_count": 22,
   "metadata": {},
   "outputs": [
    {
     "data": {
      "text/plain": [
       "3"
      ]
     },
     "execution_count": 22,
     "metadata": {},
     "output_type": "execute_result"
    }
   ],
   "source": [
    "np.random.seed(123) # saves the output of your choice\n",
    "\n",
    "# Use randint() to simulate a dice\n",
    "np.random.randint(1,7)\n",
    "np.random.randint(1,7)"
   ]
  },
  {
   "cell_type": "code",
   "execution_count": 23,
   "metadata": {},
   "outputs": [
    {
     "data": {
      "text/plain": [
       "51"
      ]
     },
     "execution_count": 23,
     "metadata": {},
     "output_type": "execute_result"
    }
   ],
   "source": [
    "step = 50\n",
    "dice = np.random.randint(1,7)\n",
    "\n",
    "if dice <= 2 :\n",
    "    step = step - 1\n",
    "elif dice <= 5 :\n",
    "    step = step + 1\n",
    "else :\n",
    "    step = step + np.random.randint(1,7)\n",
    "dice\n",
    "step"
   ]
  },
  {
   "cell_type": "code",
   "execution_count": 24,
   "metadata": {},
   "outputs": [
    {
     "name": "stdout",
     "output_type": "stream",
     "text": [
      "['heads', 'heads', 'tails', 'tails', 'heads', 'tails', 'tails', 'heads', 'tails', 'heads']\n"
     ]
    }
   ],
   "source": [
    "# head tails\n",
    "outcomes = []\n",
    "for x in range(10) :\n",
    "    coin = np.random.randint(0, 2)\n",
    "    if coin == 0:\n",
    "        outcomes.append(\"heads\")\n",
    "    else:\n",
    "        outcomes.append(\"tails\")\n",
    "print(outcomes)"
   ]
  },
  {
   "cell_type": "code",
   "execution_count": 25,
   "metadata": {},
   "outputs": [
    {
     "data": {
      "text/plain": [
       "[0, 1, 1, 2, 3, 3, 3, 3, 4, 5, 6]"
      ]
     },
     "execution_count": 25,
     "metadata": {},
     "output_type": "execute_result"
    }
   ],
   "source": [
    "tails = [0]\n",
    "for x in range(10) :\n",
    "    coin = np.random.randint(0, 2)\n",
    "    tails.append(tails[x] + coin)\n",
    "tails"
   ]
  }
 ],
 "metadata": {
  "kernelspec": {
   "display_name": "Python 3",
   "language": "python",
   "name": "python3"
  },
  "language_info": {
   "codemirror_mode": {
    "name": "ipython",
    "version": 3
   },
   "file_extension": ".py",
   "mimetype": "text/x-python",
   "name": "python",
   "nbconvert_exporter": "python",
   "pygments_lexer": "ipython3",
   "version": "3.11.3"
  },
  "orig_nbformat": 4
 },
 "nbformat": 4,
 "nbformat_minor": 2
}
